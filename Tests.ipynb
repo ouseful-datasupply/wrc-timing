{
 "cells": [
  {
   "cell_type": "markdown",
   "metadata": {},
   "source": [
    "# Tests\n",
    "\n",
    "Run a series of tests over the build up of a database."
   ]
  },
  {
   "cell_type": "code",
   "execution_count": 1,
   "metadata": {},
   "outputs": [],
   "source": [
    "#Set the notebook up to support live development in the module file\n",
    "%load_ext autoreload\n",
    "%autoreload 2"
   ]
  },
  {
   "cell_type": "code",
   "execution_count": 2,
   "metadata": {},
   "outputs": [],
   "source": [
    "#!pip3 install --upgrade pandas==0.24.1\n",
    "#Breaking change in pandas 0.25.0 on json_normalize\n",
    "#https://pandas.pydata.org/pandas-docs/stable/reference/api/pandas.io.json.json_normalize.html "
   ]
  },
  {
   "cell_type": "code",
   "execution_count": 4,
   "metadata": {},
   "outputs": [
    {
     "name": "stderr",
     "output_type": "stream",
     "text": [
      "/Users/tonyhirst/Documents/GitHub/wrc-timing/wrc_livetiming.py:524: FutureWarning: pandas.io.json.json_normalize is deprecated, use pandas.json_normalize instead\n",
      "  meta='_id'  ).drop_duplicates().pivot('_id', 'n','v').reset_index()\n"
     ]
    }
   ],
   "source": [
    "import wrc_livetiming as wt"
   ]
  },
  {
   "cell_type": "markdown",
   "metadata": {},
   "source": [
    "## Initialisation\n",
    "\n",
    "Create initial db for a rally and populate startlists."
   ]
  },
  {
   "cell_type": "code",
   "execution_count": 5,
   "metadata": {},
   "outputs": [
    {
     "name": "stdout",
     "output_type": "stream",
     "text": [
      "\n",
      "Available rallies for 2021 are: montecarlo\n",
      "\n"
     ]
    }
   ],
   "source": [
    "wt.showrallies()"
   ]
  },
  {
   "cell_type": "markdown",
   "metadata": {},
   "source": [
    "Preview metadata:"
   ]
  },
  {
   "cell_type": "code",
   "execution_count": 6,
   "metadata": {},
   "outputs": [
    {
     "data": {
      "text/plain": [
       "{'rallies': {2021: {'montecarlo': '150'}},\n",
       " 'rallies_metadata': {2021: {'montecarlo': {'name': '89e Rallye Automobile Monte-Carlo',\n",
       "    'sas-rallyid': '174',\n",
       "    'sas-eventid': '150',\n",
       "    'kmlfile': 'montecarlo_2021',\n",
       "    'date-start': Timestamp('2021-01-21 00:00:00')}}},\n",
       " 'rallyId': None,\n",
       " 'stages': [],\n",
       " 'championshipId': None}"
      ]
     },
     "execution_count": 6,
     "metadata": {},
     "output_type": "execute_result"
    }
   ],
   "source": [
    "wt.meta"
   ]
  },
  {
   "cell_type": "code",
   "execution_count": 7,
   "metadata": {},
   "outputs": [
    {
     "data": {
      "text/plain": [
       "4"
      ]
     },
     "execution_count": 7,
     "metadata": {},
     "output_type": "execute_result"
    }
   ],
   "source": [
    "wt.get_seasonId(2019)"
   ]
  },
  {
   "cell_type": "code",
   "execution_count": null,
   "metadata": {},
   "outputs": [],
   "source": []
  },
  {
   "cell_type": "code",
   "execution_count": 10,
   "metadata": {},
   "outputs": [
    {
     "name": "stderr",
     "output_type": "stream",
     "text": [
      "/Users/tonyhirst/Documents/GitHub/wrc-timing/wrc_livetiming.py:524: FutureWarning: pandas.io.json.json_normalize is deprecated, use pandas.json_normalize instead\n",
      "  meta='_id'  ).drop_duplicates().pivot('_id', 'n','v').reset_index()\n"
     ]
    },
    {
     "data": {
      "text/plain": [
       "{}"
      ]
     },
     "execution_count": 10,
     "metadata": {},
     "output_type": "execute_result"
    }
   ],
   "source": [
    "wt.get_season_details(4)"
   ]
  },
  {
   "cell_type": "code",
   "execution_count": 12,
   "metadata": {
    "scrolled": true
   },
   "outputs": [
    {
     "ename": "KeyError",
     "evalue": "'championships'",
     "output_type": "error",
     "traceback": [
      "\u001b[0;31m---------------------------------------------------------------------------\u001b[0m",
      "\u001b[0;31mKeyError\u001b[0m                                  Traceback (most recent call last)",
      "\u001b[0;32m<ipython-input-12-f23d3a2dc56a>\u001b[0m in \u001b[0;36m<module>\u001b[0;34m\u001b[0m\n\u001b[0;32m----> 1\u001b[0;31m \u001b[0mwt\u001b[0m\u001b[0;34m.\u001b[0m\u001b[0mget_season_championships\u001b[0m\u001b[0;34m(\u001b[0m\u001b[0myear\u001b[0m\u001b[0;34m=\u001b[0m\u001b[0;36m2019\u001b[0m\u001b[0;34m)\u001b[0m\u001b[0;34m\u001b[0m\u001b[0;34m\u001b[0m\u001b[0m\n\u001b[0m",
      "\u001b[0;32m~/Documents/GitHub/wrc-timing/wrc_livetiming.py\u001b[0m in \u001b[0;36mget_season_championships\u001b[0;34m(year, seasonId)\u001b[0m\n\u001b[1;32m    828\u001b[0m \u001b[0;34m\u001b[0m\u001b[0m\n\u001b[1;32m    829\u001b[0m     \u001b[0;32mif\u001b[0m \u001b[0mseasonId\u001b[0m \u001b[0;32mis\u001b[0m \u001b[0;32mnot\u001b[0m \u001b[0;32mNone\u001b[0m\u001b[0;34m:\u001b[0m\u001b[0;34m\u001b[0m\u001b[0;34m\u001b[0m\u001b[0m\n\u001b[0;32m--> 830\u001b[0;31m       \u001b[0;32mreturn\u001b[0m \u001b[0mjson_normalize\u001b[0m\u001b[0;34m(\u001b[0m \u001b[0mget_season_details\u001b[0m\u001b[0;34m(\u001b[0m\u001b[0mseasonId\u001b[0m\u001b[0;34m)\u001b[0m\u001b[0;34m[\u001b[0m\u001b[0;34m'championships'\u001b[0m\u001b[0;34m]\u001b[0m \u001b[0;34m)\u001b[0m\u001b[0;34m\u001b[0m\u001b[0;34m\u001b[0m\u001b[0m\n\u001b[0m\u001b[1;32m    831\u001b[0m     \u001b[0;32melse\u001b[0m\u001b[0;34m:\u001b[0m\u001b[0;34m\u001b[0m\u001b[0;34m\u001b[0m\u001b[0m\n\u001b[1;32m    832\u001b[0m       \u001b[0;32mreturn\u001b[0m \u001b[0mpd\u001b[0m\u001b[0;34m.\u001b[0m\u001b[0mDataFrame\u001b[0m\u001b[0;34m(\u001b[0m\u001b[0;34m)\u001b[0m\u001b[0;34m\u001b[0m\u001b[0;34m\u001b[0m\u001b[0m\n",
      "\u001b[0;31mKeyError\u001b[0m: 'championships'"
     ]
    }
   ],
   "source": [
    "wt.get_season_championships(year=2019)"
   ]
  },
  {
   "cell_type": "code",
   "execution_count": 22,
   "metadata": {},
   "outputs": [],
   "source": [
    "#!pip3 install --upgrade pandas"
   ]
  },
  {
   "cell_type": "code",
   "execution_count": 13,
   "metadata": {},
   "outputs": [
    {
     "ename": "JSONDecodeError",
     "evalue": "Expecting value: line 1 column 1 (char 0)",
     "output_type": "error",
     "traceback": [
      "\u001b[0;31m---------------------------------------------------------------------------\u001b[0m",
      "\u001b[0;31mJSONDecodeError\u001b[0m                           Traceback (most recent call last)",
      "\u001b[0;32m<ipython-input-13-040342c58a40>\u001b[0m in \u001b[0;36m<module>\u001b[0;34m\u001b[0m\n\u001b[1;32m      2\u001b[0m \u001b[0;32mimport\u001b[0m \u001b[0mrequests\u001b[0m\u001b[0;34m\u001b[0m\u001b[0;34m\u001b[0m\u001b[0m\n\u001b[1;32m      3\u001b[0m \u001b[0;34m\u001b[0m\u001b[0m\n\u001b[0;32m----> 4\u001b[0;31m \u001b[0mchampionship_json\u001b[0m \u001b[0;34m=\u001b[0m \u001b[0mrequests\u001b[0m\u001b[0;34m.\u001b[0m\u001b[0mget\u001b[0m\u001b[0;34m(\u001b[0m\u001b[0;34m'https://www.wrc.com/service/sasCacheApi.php?route=seasons/4/championships/24'\u001b[0m\u001b[0;34m)\u001b[0m\u001b[0;34m.\u001b[0m\u001b[0mjson\u001b[0m\u001b[0;34m(\u001b[0m\u001b[0;34m)\u001b[0m\u001b[0;34m\u001b[0m\u001b[0;34m\u001b[0m\u001b[0m\n\u001b[0m\u001b[1;32m      5\u001b[0m \u001b[0mjj\u001b[0m\u001b[0;34m=\u001b[0m\u001b[0mjson_normalize\u001b[0m\u001b[0;34m(\u001b[0m\u001b[0mchampionship_json\u001b[0m\u001b[0;34m,\u001b[0m\u001b[0;34m[\u001b[0m\u001b[0;34m'championshipRounds'\u001b[0m\u001b[0;34m]\u001b[0m \u001b[0;34m)\u001b[0m\u001b[0;34m\u001b[0m\u001b[0;34m\u001b[0m\u001b[0m\n\u001b[1;32m      6\u001b[0m \u001b[0;31m#championship_json\u001b[0m\u001b[0;34m\u001b[0m\u001b[0;34m\u001b[0m\u001b[0;34m\u001b[0m\u001b[0m\n",
      "\u001b[0;32m/usr/local/lib/python3.7/site-packages/requests/models.py\u001b[0m in \u001b[0;36mjson\u001b[0;34m(self, **kwargs)\u001b[0m\n\u001b[1;32m    896\u001b[0m                     \u001b[0;31m# used.\u001b[0m\u001b[0;34m\u001b[0m\u001b[0;34m\u001b[0m\u001b[0;34m\u001b[0m\u001b[0m\n\u001b[1;32m    897\u001b[0m                     \u001b[0;32mpass\u001b[0m\u001b[0;34m\u001b[0m\u001b[0;34m\u001b[0m\u001b[0m\n\u001b[0;32m--> 898\u001b[0;31m         \u001b[0;32mreturn\u001b[0m \u001b[0mcomplexjson\u001b[0m\u001b[0;34m.\u001b[0m\u001b[0mloads\u001b[0m\u001b[0;34m(\u001b[0m\u001b[0mself\u001b[0m\u001b[0;34m.\u001b[0m\u001b[0mtext\u001b[0m\u001b[0;34m,\u001b[0m \u001b[0;34m**\u001b[0m\u001b[0mkwargs\u001b[0m\u001b[0;34m)\u001b[0m\u001b[0;34m\u001b[0m\u001b[0;34m\u001b[0m\u001b[0m\n\u001b[0m\u001b[1;32m    899\u001b[0m \u001b[0;34m\u001b[0m\u001b[0m\n\u001b[1;32m    900\u001b[0m     \u001b[0;34m@\u001b[0m\u001b[0mproperty\u001b[0m\u001b[0;34m\u001b[0m\u001b[0;34m\u001b[0m\u001b[0m\n",
      "\u001b[0;32m/usr/local/lib/python3.7/site-packages/simplejson/__init__.py\u001b[0m in \u001b[0;36mloads\u001b[0;34m(s, encoding, cls, object_hook, parse_float, parse_int, parse_constant, object_pairs_hook, use_decimal, **kw)\u001b[0m\n\u001b[1;32m    516\u001b[0m             \u001b[0mparse_constant\u001b[0m \u001b[0;32mis\u001b[0m \u001b[0;32mNone\u001b[0m \u001b[0;32mand\u001b[0m \u001b[0mobject_pairs_hook\u001b[0m \u001b[0;32mis\u001b[0m \u001b[0;32mNone\u001b[0m\u001b[0;34m\u001b[0m\u001b[0;34m\u001b[0m\u001b[0m\n\u001b[1;32m    517\u001b[0m             and not use_decimal and not kw):\n\u001b[0;32m--> 518\u001b[0;31m         \u001b[0;32mreturn\u001b[0m \u001b[0m_default_decoder\u001b[0m\u001b[0;34m.\u001b[0m\u001b[0mdecode\u001b[0m\u001b[0;34m(\u001b[0m\u001b[0ms\u001b[0m\u001b[0;34m)\u001b[0m\u001b[0;34m\u001b[0m\u001b[0;34m\u001b[0m\u001b[0m\n\u001b[0m\u001b[1;32m    519\u001b[0m     \u001b[0;32mif\u001b[0m \u001b[0mcls\u001b[0m \u001b[0;32mis\u001b[0m \u001b[0;32mNone\u001b[0m\u001b[0;34m:\u001b[0m\u001b[0;34m\u001b[0m\u001b[0;34m\u001b[0m\u001b[0m\n\u001b[1;32m    520\u001b[0m         \u001b[0mcls\u001b[0m \u001b[0;34m=\u001b[0m \u001b[0mJSONDecoder\u001b[0m\u001b[0;34m\u001b[0m\u001b[0;34m\u001b[0m\u001b[0m\n",
      "\u001b[0;32m/usr/local/lib/python3.7/site-packages/simplejson/decoder.py\u001b[0m in \u001b[0;36mdecode\u001b[0;34m(self, s, _w, _PY3)\u001b[0m\n\u001b[1;32m    368\u001b[0m         \u001b[0;32mif\u001b[0m \u001b[0m_PY3\u001b[0m \u001b[0;32mand\u001b[0m \u001b[0misinstance\u001b[0m\u001b[0;34m(\u001b[0m\u001b[0ms\u001b[0m\u001b[0;34m,\u001b[0m \u001b[0mbytes\u001b[0m\u001b[0;34m)\u001b[0m\u001b[0;34m:\u001b[0m\u001b[0;34m\u001b[0m\u001b[0;34m\u001b[0m\u001b[0m\n\u001b[1;32m    369\u001b[0m             \u001b[0ms\u001b[0m \u001b[0;34m=\u001b[0m \u001b[0mstr\u001b[0m\u001b[0;34m(\u001b[0m\u001b[0ms\u001b[0m\u001b[0;34m,\u001b[0m \u001b[0mself\u001b[0m\u001b[0;34m.\u001b[0m\u001b[0mencoding\u001b[0m\u001b[0;34m)\u001b[0m\u001b[0;34m\u001b[0m\u001b[0;34m\u001b[0m\u001b[0m\n\u001b[0;32m--> 370\u001b[0;31m         \u001b[0mobj\u001b[0m\u001b[0;34m,\u001b[0m \u001b[0mend\u001b[0m \u001b[0;34m=\u001b[0m \u001b[0mself\u001b[0m\u001b[0;34m.\u001b[0m\u001b[0mraw_decode\u001b[0m\u001b[0;34m(\u001b[0m\u001b[0ms\u001b[0m\u001b[0;34m)\u001b[0m\u001b[0;34m\u001b[0m\u001b[0;34m\u001b[0m\u001b[0m\n\u001b[0m\u001b[1;32m    371\u001b[0m         \u001b[0mend\u001b[0m \u001b[0;34m=\u001b[0m \u001b[0m_w\u001b[0m\u001b[0;34m(\u001b[0m\u001b[0ms\u001b[0m\u001b[0;34m,\u001b[0m \u001b[0mend\u001b[0m\u001b[0;34m)\u001b[0m\u001b[0;34m.\u001b[0m\u001b[0mend\u001b[0m\u001b[0;34m(\u001b[0m\u001b[0;34m)\u001b[0m\u001b[0;34m\u001b[0m\u001b[0;34m\u001b[0m\u001b[0m\n\u001b[1;32m    372\u001b[0m         \u001b[0;32mif\u001b[0m \u001b[0mend\u001b[0m \u001b[0;34m!=\u001b[0m \u001b[0mlen\u001b[0m\u001b[0;34m(\u001b[0m\u001b[0ms\u001b[0m\u001b[0;34m)\u001b[0m\u001b[0;34m:\u001b[0m\u001b[0;34m\u001b[0m\u001b[0;34m\u001b[0m\u001b[0m\n",
      "\u001b[0;32m/usr/local/lib/python3.7/site-packages/simplejson/decoder.py\u001b[0m in \u001b[0;36mraw_decode\u001b[0;34m(self, s, idx, _w, _PY3)\u001b[0m\n\u001b[1;32m    398\u001b[0m             \u001b[0;32melif\u001b[0m \u001b[0mord0\u001b[0m \u001b[0;34m==\u001b[0m \u001b[0;36m0xef\u001b[0m \u001b[0;32mand\u001b[0m \u001b[0ms\u001b[0m\u001b[0;34m[\u001b[0m\u001b[0midx\u001b[0m\u001b[0;34m:\u001b[0m\u001b[0midx\u001b[0m \u001b[0;34m+\u001b[0m \u001b[0;36m3\u001b[0m\u001b[0;34m]\u001b[0m \u001b[0;34m==\u001b[0m \u001b[0;34m'\\xef\\xbb\\xbf'\u001b[0m\u001b[0;34m:\u001b[0m\u001b[0;34m\u001b[0m\u001b[0;34m\u001b[0m\u001b[0m\n\u001b[1;32m    399\u001b[0m                 \u001b[0midx\u001b[0m \u001b[0;34m+=\u001b[0m \u001b[0;36m3\u001b[0m\u001b[0;34m\u001b[0m\u001b[0;34m\u001b[0m\u001b[0m\n\u001b[0;32m--> 400\u001b[0;31m         \u001b[0;32mreturn\u001b[0m \u001b[0mself\u001b[0m\u001b[0;34m.\u001b[0m\u001b[0mscan_once\u001b[0m\u001b[0;34m(\u001b[0m\u001b[0ms\u001b[0m\u001b[0;34m,\u001b[0m \u001b[0midx\u001b[0m\u001b[0;34m=\u001b[0m\u001b[0m_w\u001b[0m\u001b[0;34m(\u001b[0m\u001b[0ms\u001b[0m\u001b[0;34m,\u001b[0m \u001b[0midx\u001b[0m\u001b[0;34m)\u001b[0m\u001b[0;34m.\u001b[0m\u001b[0mend\u001b[0m\u001b[0;34m(\u001b[0m\u001b[0;34m)\u001b[0m\u001b[0;34m)\u001b[0m\u001b[0;34m\u001b[0m\u001b[0;34m\u001b[0m\u001b[0m\n\u001b[0m",
      "\u001b[0;31mJSONDecodeError\u001b[0m: Expecting value: line 1 column 1 (char 0)"
     ]
    }
   ],
   "source": [
    "from pandas.io.json import json_normalize\n",
    "import requests\n",
    "\n",
    "championship_json = requests.get('https://www.wrc.com/service/sasCacheApi.php?route=seasons/4/championships/24').json()\n",
    "jj=json_normalize(championship_json,['championshipRounds'] )\n",
    "#championship_json\n",
    "jj.columns"
   ]
  },
  {
   "cell_type": "code",
   "execution_count": 38,
   "metadata": {},
   "outputs": [
    {
     "name": "stdout",
     "output_type": "stream",
     "text": [
      "Grabbing season data tables for 2019\n",
      "Getting season data error...\n",
      "Grabbing championship data tables for 2019\n",
      "Grabbing event metadata tables.\n"
     ]
    },
    {
     "data": {
      "text/plain": [
       "<sqlite3.Connection at 0x1155c0650>"
      ]
     },
     "execution_count": 38,
     "metadata": {},
     "output_type": "execute_result"
    }
   ],
   "source": [
    "wt.setup_db('testingdb.db', wt.meta, newdb=True)"
   ]
  },
  {
   "cell_type": "markdown",
   "metadata": {},
   "source": [
    "We can get data if we have the full path...\n",
    "\n",
    "eg https://www.wrc.com/service/sasCacheApi.php?route=seasons%2F4%2Fchampionships%2F24"
   ]
  },
  {
   "cell_type": "markdown",
   "metadata": {},
   "source": [
    "Get season\n"
   ]
  },
  {
   "cell_type": "code",
   "execution_count": 14,
   "metadata": {},
   "outputs": [],
   "source": [
    "import pandas as pd\n",
    "import requests"
   ]
  },
  {
   "cell_type": "code",
   "execution_count": 15,
   "metadata": {},
   "outputs": [],
   "source": [
    "url = 'https://webappsdata.wrc.com/srv/wrc/json/api/wrcsrv/byType?t=%22Season%22&maxdepth=2'"
   ]
  },
  {
   "cell_type": "code",
   "execution_count": 16,
   "metadata": {},
   "outputs": [
    {
     "data": {
      "text/plain": [
       "Index(['sas-eventid', 'name', 'sitid', 'sas-rallyid', 'sas-itineraryid',\n",
       "       'sas-trackingid', 'date-start', 'date-finish', 'info-date',\n",
       "       'info-based', 'info-surface', 'info-flag', 'info-website', 'tzoffset',\n",
       "       'kmlfile', 'logo', 'rosterid', 'poilistid', 'position', 'availability',\n",
       "       'hasvideos'],\n",
       "      dtype='object')"
      ]
     },
     "execution_count": 16,
     "metadata": {},
     "output_type": "execute_result"
    }
   ],
   "source": [
    "def nvExtract(items):\n",
    "    d = {}\n",
    "    for item in items:\n",
    "        d[item['n']] = item['v']\n",
    "    #return d\n",
    "    return pd.DataFrame.from_dict(d, orient='index')\n",
    "\n",
    "r = requests.get(url).json()\n",
    "\n",
    "df=pd.DataFrame()\n",
    "for s in r:\n",
    "    if s['name'] == str(2019):\n",
    "        for e in s['_dchildren']:\n",
    "            df = pd.concat([df,nvExtract(e['_meta']).T], sort=False)\n",
    "df = df.reset_index(drop=True)\n",
    "df.columns"
   ]
  },
  {
   "cell_type": "code",
   "execution_count": 17,
   "metadata": {},
   "outputs": [],
   "source": [
    "seasons = requests.get(url).json()"
   ]
  },
  {
   "cell_type": "code",
   "execution_count": 19,
   "metadata": {},
   "outputs": [
    {
     "data": {
      "text/plain": [
       "{'_id': '7314dece-7d1d-4950-973e-83ac5fbf52a3',\n",
       " 'name': '2020',\n",
       " 'type': 'Season',\n",
       " '_meta': [{'n': 'sas-seasonid', 'v': '6'}],\n",
       " 'parentid': None,\n",
       " '_children': ['337e5bea-36a0-40e1-b59e-15d2bc75795d',\n",
       "  '73018aed-c75c-45e4-bb1d-687bd72dd254',\n",
       "  'f0e156dc-a193-426a-83cb-78a0c97084cb',\n",
       "  '85e49e11-4874-4b8f-bd07-35b6b801a6b3',\n",
       "  '2dfaa0ed-89a7-4355-a05d-87a910195ca8',\n",
       "  '90c556d0-74ff-4621-acc5-d83d95ec14d9',\n",
       "  'add2be20-9169-4007-b029-ae5490d04732',\n",
       "  '0ec00689-6cc1-408b-9c71-a5a28baf1fae',\n",
       "  'b3e76f24-a685-4ef2-acb4-f0f7ab514836',\n",
       "  'e136d624-88d0-4019-84ef-458906c6382f',\n",
       "  '893f4ff5-5f8c-407b-be61-83e63d808c55',\n",
       "  'd8ff92b6-ed5e-4123-83e1-d152e2281f5a',\n",
       "  'eb3e697c-6458-4020-97fb-4842d5fa35f4',\n",
       "  '6444e0b4-6862-4ffe-89bf-a40a10930a4a',\n",
       "  'a5b18086-a640-4eb8-ac46-252814584693'],\n",
       " '_dchildren': [{'_id': '337e5bea-36a0-40e1-b59e-15d2bc75795d',\n",
       "   'name': '88e Rallye Automobile Monte-Carlo',\n",
       "   'type': 'Event',\n",
       "   '_meta': [{'n': 'sas-eventid', 'v': '124'},\n",
       "    {'n': 'name', 'v': '88e Rallye Automobile Monte-Carlo'},\n",
       "    {'n': 'sitid', 'v': '124'},\n",
       "    {'n': 'sas-rallyid', 'v': '153'},\n",
       "    {'n': 'sas-itineraryid', 'v': '240'},\n",
       "    {'n': 'sas-trackingid', 'v': '3044'},\n",
       "    {'n': 'date-start', 'v': '2020-01-23'},\n",
       "    {'n': 'date-finish', 'v': '2020-01-26'},\n",
       "    {'n': 'info-date', 'v': '22 - 26 Jan 20'},\n",
       "    {'n': 'info-based', 'v': 'Monte-Carlo'},\n",
       "    {'n': 'info-surface', 'v': 'Asphalt'},\n",
       "    {'n': 'info-flag', 'v': 'mon'},\n",
       "    {'n': 'info-website',\n",
       "     'v': 'https://acm.mc/en/edition/rallye-monte-carlo-edition-2020/'},\n",
       "    {'n': 'tzoffset', 'v': '0'},\n",
       "    {'n': 'logo', 'v': 'images/montecarlo_2020.png'},\n",
       "    {'n': 'kmlfile', 'v': 'montecarlo_2020'},\n",
       "    {'n': 'position', 'v': '7.421630,43.734607'},\n",
       "    {'n': 'poilistid', 'v': '4f404835-cf72-4376-92d5-5099c6a1bb7d'},\n",
       "    {'n': 'rosterid', 'v': '36518026-d859-408e-a0ee-1118137dec7d'},\n",
       "    {'n': 'availability', 'v': 'now'},\n",
       "    {'n': 'hasvideos', 'v': 'true'}],\n",
       "   'parentid': None,\n",
       "   '_children': ['09158fa8-309e-4bde-a5cb-63fdec4e8c1c',\n",
       "    '3e1e01a1-3c55-4aff-af3d-c62a5f53369c',\n",
       "    'cf67778a-5e56-4433-8e8c-3e3c99bf144b',\n",
       "    '975c5a79-8820-4e28-a0e4-1fa410a9c275',\n",
       "    '5aa2dcbe-ce22-48d3-aba8-7d3a6cc55eae',\n",
       "    '1440dbc0-9f7e-45c1-8e5e-3f86ccf5ac86',\n",
       "    'dd54e309-7e40-42c3-9a36-f4546ec7ef1b',\n",
       "    '84a7b0ca-ec7d-4e61-a889-7c9e62f68e65',\n",
       "    '5ac9a045-0f8d-411b-960d-f3af3f0f040b',\n",
       "    '504fdb04-615c-4b72-9ba9-73761011d14d',\n",
       "    '7f8301ae-b075-43ab-9cb4-4691d202418c',\n",
       "    'b0bcccb2-ced6-4356-b029-93436033efb2',\n",
       "    '98bb7d3b-c372-4d7a-8272-42a150899fb5',\n",
       "    '745e64ca-567f-4901-af67-f8bf6f6a211c',\n",
       "    '205e2669-bbc7-45c9-bf55-9da25381000e',\n",
       "    'ac358f74-21b9-47cf-8ba5-f6312a5c01d6'],\n",
       "   '_dchildren': []},\n",
       "  {'_id': '73018aed-c75c-45e4-bb1d-687bd72dd254',\n",
       "   'name': 'Rally Sweden',\n",
       "   'type': 'Event',\n",
       "   '_meta': [{'n': 'sas-eventid', 'v': '125'},\n",
       "    {'n': 'name', 'v': 'Rally Sweden'},\n",
       "    {'n': 'sitid', 'v': '125'},\n",
       "    {'n': 'sas-rallyid', 'v': '154'},\n",
       "    {'n': 'sas-itineraryid', 'v': '243'},\n",
       "    {'n': 'sas-trackingid', 'v': '3046'},\n",
       "    {'n': 'date-start', 'v': '2020-02-14'},\n",
       "    {'n': 'date-finish', 'v': '2020-02-16'},\n",
       "    {'n': 'info-date', 'v': '13 - 16 Feb 20'},\n",
       "    {'n': 'info-based', 'v': 'Torsby'},\n",
       "    {'n': 'info-flag', 'v': 'swe'},\n",
       "    {'n': 'tzoffset', 'v': '0'},\n",
       "    {'n': 'rosterid', 'v': 'c7ba04a8-8862-4418-82fc-7c16b29543c8'},\n",
       "    {'n': 'logo', 'v': 'images/sweden_2020.png'},\n",
       "    {'n': 'position', 'v': '13.501888,59.382384'},\n",
       "    {'n': 'kmlfile', 'v': 'sweden_2020'},\n",
       "    {'n': 'poilistid', 'v': '91def4b9-08a9-4265-97db-e11fbd6845f3'},\n",
       "    {'n': 'info-website', 'v': 'http://rallysweden.com/en'},\n",
       "    {'n': 'availability', 'v': 'now'},\n",
       "    {'n': 'hasvideos', 'v': 'true'}],\n",
       "   'parentid': None,\n",
       "   '_children': ['b53fbfa5-e0b7-4d61-9155-2dbb61ef667b',\n",
       "    '56f536f1-debc-4256-a990-810db56938b0',\n",
       "    '3a30c11c-6cd9-47ac-b274-424fb692b801',\n",
       "    '19a702c9-2c2e-4a35-b624-422390d7e2cf',\n",
       "    '7e9747b5-7e6f-4414-9e6e-5f5fdf7296cd',\n",
       "    '987ff088-226c-4076-aa79-8c5da550b71f',\n",
       "    '9837e3af-74fd-4e03-b7d7-9a2324ca4212',\n",
       "    '2cc1707c-8ca9-4098-8d07-eb614b4c5fe3',\n",
       "    'f6dfdb69-2705-4832-8dcf-1dfb2a39b4ce'],\n",
       "   '_dchildren': []},\n",
       "  {'_id': 'f0e156dc-a193-426a-83cb-78a0c97084cb',\n",
       "   'name': 'Rally Guanajuato Mexico',\n",
       "   'type': 'Event',\n",
       "   '_meta': [{'n': 'sas-eventid', 'v': '126'},\n",
       "    {'n': 'name', 'v': 'Rally Guanajuato Mexico'},\n",
       "    {'n': 'sitid', 'v': '126'},\n",
       "    {'n': 'sas-rallyid', 'v': '155'},\n",
       "    {'n': 'sas-itineraryid', 'v': '244'},\n",
       "    {'n': 'sas-trackingid', 'v': '3047'},\n",
       "    {'n': 'date-start', 'v': '2020-03-12'},\n",
       "    {'n': 'date-finish', 'v': '2020-03-15'},\n",
       "    {'n': 'info-date', 'v': '12 - 15 Mrz 20'},\n",
       "    {'n': 'info-based', 'v': 'Leon'},\n",
       "    {'n': 'info-flag', 'v': 'mex'},\n",
       "    {'n': 'tzoffset', 'v': '-25200000'},\n",
       "    {'n': 'rosterid', 'v': '594ec5c6-32b4-411d-932e-2ab27e44d88d'},\n",
       "    {'n': 'logo', 'v': 'images/mexico_2020.png'},\n",
       "    {'n': 'position', 'v': '-101.261554,21.019705'},\n",
       "    {'n': 'kmlfile', 'v': 'mexico_2020'},\n",
       "    {'n': 'info-website', 'v': 'www.rallymexico.com'},\n",
       "    {'n': 'info-surface', 'v': 'Gravel'},\n",
       "    {'n': 'poilistid', 'v': '79a4fc2c-0479-4689-b7f5-b6cfea79e38d'},\n",
       "    {'n': 'availability', 'v': 'now'},\n",
       "    {'n': 'hasvideos', 'v': 'true'}],\n",
       "   'parentid': None,\n",
       "   '_children': ['6bf79b73-dd9b-4afa-b3fa-e9473a684646',\n",
       "    '133ec250-e25b-438e-9a27-45e6b6fa8b0a',\n",
       "    '3fb1b585-31e3-4871-aa07-1c4a765e19f0',\n",
       "    'a6c6d73b-d43d-4e0a-897d-3eecfaba6686',\n",
       "    '2e72ab0a-c8ca-41a1-814a-0a7184e4679d',\n",
       "    '5ff77151-6e85-4f5b-9642-e49ab4657992',\n",
       "    'a4e5a550-8759-4940-8155-6ab9b3016b01',\n",
       "    'ccd2d874-bc63-4473-9982-44b77883325a',\n",
       "    '005e671e-8ed8-4cbc-97c8-0283a637c978',\n",
       "    'da681789-6504-4af6-9248-153ef81d02e1',\n",
       "    '62e0315d-c87d-4253-a8c6-33d5dbdbd730',\n",
       "    'b5f83b2a-926a-40dc-9ee6-ff103b4dd9a2',\n",
       "    'ab5ba8bf-2fe9-4c31-a829-7afb158ef46a',\n",
       "    '115e7bba-555d-4a21-b6ac-72cfc7f17098',\n",
       "    'cfe179e3-5af0-484a-b0c8-a59afb5694e4',\n",
       "    '1fa1b8fa-ef40-4d18-9ae4-831c2a7572bf',\n",
       "    'ce3cf6ba-5cde-4913-a8c8-1edfc61fb4d9',\n",
       "    'bcbef3b3-a207-4faa-95bf-eade16d98d73',\n",
       "    '945796bd-ae44-455e-b7cd-2d83ee84ab3c',\n",
       "    '47a8760f-072a-420c-b00d-206987febf16',\n",
       "    '4734ee00-208e-41c1-9ca8-fbcd5010ca32',\n",
       "    '7946e6f0-af99-4059-b82c-feb2c0467081',\n",
       "    'a70c4880-2571-4f72-b93e-3533df303e31',\n",
       "    '2c8bbd6e-2ea3-4edc-b302-d9af8e734adf'],\n",
       "   '_dchildren': []},\n",
       "  {'_id': '85e49e11-4874-4b8f-bd07-35b6b801a6b3',\n",
       "   'name': 'SpeedAgro Rally Argentina ',\n",
       "   'type': 'Event',\n",
       "   '_meta': [{'n': 'sas-eventid', 'v': '127'},\n",
       "    {'n': 'name', 'v': 'SpeedAgro Rally Argentina '},\n",
       "    {'n': 'sitid', 'v': '127'},\n",
       "    {'n': 'sas-rallyid', 'v': '156'},\n",
       "    {'n': 'sas-itineraryid', 'v': '229'},\n",
       "    {'n': 'sas-trackingid', 'v': '3048'},\n",
       "    {'n': 'date-start', 'v': '2020-04-23'},\n",
       "    {'n': 'date-finish', 'v': '2020-04-26'},\n",
       "    {'n': 'info-date', 'v': '23 - 26 Apr 20'},\n",
       "    {'n': 'info-based', 'v': 'Villa Carlos Paz'},\n",
       "    {'n': 'info-flag', 'v': 'ARG'},\n",
       "    {'n': 'tzoffset', 'v': '-14400000'},\n",
       "    {'n': 'rosterid', 'v': 'f71f5a29-762e-4670-a85e-7b3c5ebe882c'}],\n",
       "   'parentid': None,\n",
       "   '_children': [],\n",
       "   '_dchildren': []},\n",
       "  {'_id': '2dfaa0ed-89a7-4355-a05d-87a910195ca8',\n",
       "   'name': 'Rally de Portugal',\n",
       "   'type': 'Event',\n",
       "   '_meta': [{'n': 'sas-eventid', 'v': '128'},\n",
       "    {'n': 'name', 'v': 'Rally de Portugal'},\n",
       "    {'n': 'sitid', 'v': '128'},\n",
       "    {'n': 'sas-rallyid', 'v': '157'},\n",
       "    {'n': 'sas-itineraryid', 'v': '230'},\n",
       "    {'n': 'sas-trackingid', 'v': '3049'},\n",
       "    {'n': 'date-start', 'v': '2020-05-21'},\n",
       "    {'n': 'date-finish', 'v': '2020-05-24'},\n",
       "    {'n': 'info-date', 'v': '21 - 24 Mai 20'},\n",
       "    {'n': 'info-based', 'v': 'Matosinhos'},\n",
       "    {'n': 'info-flag', 'v': 'PRT'},\n",
       "    {'n': 'tzoffset', 'v': '-3600000'},\n",
       "    {'n': 'rosterid', 'v': '6e2c9c78-ed1f-41a6-a1f6-2047fd4bd5dc'}],\n",
       "   'parentid': None,\n",
       "   '_children': [],\n",
       "   '_dchildren': []},\n",
       "  {'_id': '90c556d0-74ff-4621-acc5-d83d95ec14d9',\n",
       "   'name': 'Safari Rally Kenya',\n",
       "   'type': 'Event',\n",
       "   '_meta': [{'n': 'sas-eventid', 'v': '130'},\n",
       "    {'n': 'name', 'v': 'Safari Rally Kenya'},\n",
       "    {'n': 'sitid', 'v': '130'},\n",
       "    {'n': 'sas-rallyid', 'v': '159'},\n",
       "    {'n': 'sas-itineraryid', 'v': '232'},\n",
       "    {'n': 'sas-trackingid', 'v': '3051'},\n",
       "    {'n': 'date-start', 'v': '1021-07-16'},\n",
       "    {'n': 'date-finish', 'v': '1021-07-19'},\n",
       "    {'n': 'info-date', 'v': '16 - 19 Jul 20'},\n",
       "    {'n': 'info-based', 'v': 'Naivasha'},\n",
       "    {'n': 'info-flag', 'v': 'KEN'},\n",
       "    {'n': 'tzoffset', 'v': '7200000'}],\n",
       "   'parentid': None,\n",
       "   '_children': [],\n",
       "   '_dchildren': []},\n",
       "  {'_id': 'add2be20-9169-4007-b029-ae5490d04732',\n",
       "   'name': 'Rally New Zealand',\n",
       "   'type': 'Event',\n",
       "   '_meta': [{'n': 'sas-eventid', 'v': '132'},\n",
       "    {'n': 'name', 'v': 'Rally New Zealand'},\n",
       "    {'n': 'sitid', 'v': '132'},\n",
       "    {'n': 'sas-rallyid', 'v': '161'},\n",
       "    {'n': 'sas-itineraryid', 'v': '234'},\n",
       "    {'n': 'sas-trackingid', 'v': '3053'},\n",
       "    {'n': 'date-start', 'v': '1021-09-03'},\n",
       "    {'n': 'date-finish', 'v': '1021-09-06'},\n",
       "    {'n': 'info-date', 'v': '03 - 06 Sep 20'},\n",
       "    {'n': 'info-based', 'v': 'Auckland'},\n",
       "    {'n': 'info-flag', 'v': 'NZL'},\n",
       "    {'n': 'tzoffset', 'v': '43200000'},\n",
       "    {'n': 'rosterid', 'v': '3401ef3e-9d5f-4252-b002-7672ef40964f'}],\n",
       "   'parentid': None,\n",
       "   '_children': [],\n",
       "   '_dchildren': []},\n",
       "  {'_id': '0ec00689-6cc1-408b-9c71-a5a28baf1fae',\n",
       "   'name': 'Rally Estonia',\n",
       "   'type': 'Event',\n",
       "   '_meta': [{'n': 'sas-eventid', 'v': '146'},\n",
       "    {'n': 'name', 'v': 'Rally Estonia'},\n",
       "    {'n': 'sitid', 'v': '146'},\n",
       "    {'n': 'sas-rallyid', 'v': '167'},\n",
       "    {'n': 'sas-itineraryid', 'v': '249'},\n",
       "    {'n': 'sas-trackingid', 'v': '3149'},\n",
       "    {'n': 'date-start', 'v': '2020-09-04'},\n",
       "    {'n': 'date-finish', 'v': '2020-09-06'},\n",
       "    {'n': 'info-date', 'v': '04 - 06 Sep 20'},\n",
       "    {'n': 'info-based', 'v': 'Tartu'},\n",
       "    {'n': 'info-surface', 'v': ''},\n",
       "    {'n': 'info-flag', 'v': 'est'},\n",
       "    {'n': 'info-website', 'v': 'https://www.rallyestonia.ee/'},\n",
       "    {'n': 'tzoffset', 'v': '10800000'},\n",
       "    {'n': 'kmlfile', 'v': 'estonia_2020'},\n",
       "    {'n': 'logo', 'v': 'images/estonia_2020.png'},\n",
       "    {'n': 'position', 'v': '26.742737,58.395778'},\n",
       "    {'n': 'poilistid', 'v': '405d68e6-f03c-4532-9b1c-da0fd2078119'},\n",
       "    {'n': 'rosterid', 'v': '698ab383-9040-4c9f-86e8-2dbd9803b0ce'},\n",
       "    {'n': 'availability', 'v': 'now'},\n",
       "    {'n': 'hasvideos', 'v': 'true'}],\n",
       "   'parentid': None,\n",
       "   '_children': ['5cd92bcb-5d91-41ca-9dcb-6566e0589998',\n",
       "    '89112e24-9f57-48a0-af1e-e39d5f02fb76',\n",
       "    '8768cec2-af25-4af9-8b0c-c313f2a989d4',\n",
       "    'ff1ccb39-cff8-404e-97a4-18d7767dc2de',\n",
       "    '3adb9ed5-2689-4a14-bcbc-9d3122460d41',\n",
       "    '18ecec14-7bf1-48c3-815e-5a61f934769c',\n",
       "    '5a4b234e-f27c-4bbe-b883-2ef1ec99a175',\n",
       "    '4d0088ef-3889-4037-bd85-37054241e84a',\n",
       "    'cc63a6a5-00a2-4047-b831-5fdb42fbe318',\n",
       "    'c67b2a57-0ffe-43e9-8497-19ef67e9171f',\n",
       "    '9e871119-a736-4752-b670-e3fb94c5f9b7',\n",
       "    'c4340604-f0f9-43e0-a0c8-c0bdf035e7c2',\n",
       "    '0298e47f-0698-467e-9706-5660827f8e82',\n",
       "    '169b8ec5-b23e-4240-9579-0efcb1b5678c',\n",
       "    'ad3b702d-9b8e-40fa-a923-f7a45d9a798a',\n",
       "    '62ef329a-2e58-404c-88f2-dbea26e2f785',\n",
       "    '06eb8adb-54f9-4410-8040-4b21937624a8'],\n",
       "   '_dchildren': []},\n",
       "  {'_id': 'b3e76f24-a685-4ef2-acb4-f0f7ab514836',\n",
       "   'name': 'Marmaris Rally of Turkey',\n",
       "   'type': 'Event',\n",
       "   '_meta': [{'n': 'sas-eventid', 'v': '133'},\n",
       "    {'n': 'name', 'v': 'Marmaris Rally of Turkey'},\n",
       "    {'n': 'sitid', 'v': '133'},\n",
       "    {'n': 'sas-rallyid', 'v': '162'},\n",
       "    {'n': 'sas-itineraryid', 'v': '251'},\n",
       "    {'n': 'sas-trackingid', 'v': '3054'},\n",
       "    {'n': 'date-start', 'v': '2020-09-18'},\n",
       "    {'n': 'date-finish', 'v': '2020-09-20'},\n",
       "    {'n': 'info-date', 'v': '18 - 20 Sep 20'},\n",
       "    {'n': 'info-based', 'v': 'Marmaris'},\n",
       "    {'n': 'info-flag', 'v': 'tur'},\n",
       "    {'n': 'tzoffset', 'v': '10800000'},\n",
       "    {'n': 'position', 'v': '28.19183333333334,36.81933333333333'},\n",
       "    {'n': 'logo', 'v': 'images/turkey_2020.png'},\n",
       "    {'n': 'kmlfile', 'v': 'turkey_2020'},\n",
       "    {'n': 'poilistid', 'v': '6a8b09d7-0991-414f-981b-5e346fb148c0'},\n",
       "    {'n': 'rosterid', 'v': 'fb24d1ca-50e7-4536-9b34-b06d709b5011'},\n",
       "    {'n': 'hasvideos', 'v': 'true'},\n",
       "    {'n': 'availablility', 'v': 'now'}],\n",
       "   'parentid': None,\n",
       "   '_children': ['395dea36-55ee-47e0-bf4d-35b51dcbea17',\n",
       "    '6ee15399-ac2b-4414-823c-7a8c3298f68c',\n",
       "    '354b2a83-ccae-4cf0-ad3e-451cf6c983f8',\n",
       "    '61ef3d2a-ea8e-49d7-a321-b5e00757b9c8',\n",
       "    'a5306e37-ee94-4eb6-b7c5-126c031ca1df',\n",
       "    'f05c3404-5436-4dbb-95cc-104e6c3d93f2',\n",
       "    '9b6dfed0-6211-4b05-9007-c3457ba083ff',\n",
       "    'fecb70de-7a85-4438-a43f-3e680314f688',\n",
       "    '66b8e50b-a0a3-4785-beda-572ccf9b9d58',\n",
       "    'b77a36cd-c8f0-4df6-90d3-f4985ec70624',\n",
       "    '40a029e0-74fe-4168-bf4f-9bfea3cf062e',\n",
       "    '580ab19d-8f21-4171-bcc7-2df2e49908fc'],\n",
       "   '_dchildren': []},\n",
       "  {'_id': 'e136d624-88d0-4019-84ef-458906c6382f',\n",
       "   'name': 'Rally Italia Sardegna',\n",
       "   'type': 'Event',\n",
       "   '_meta': [{'n': 'sas-eventid', 'v': '129'},\n",
       "    {'n': 'name', 'v': 'Rally Italia Sardegna'},\n",
       "    {'n': 'sitid', 'v': '129'},\n",
       "    {'n': 'sas-rallyid', 'v': '158'},\n",
       "    {'n': 'sas-itineraryid', 'v': '255'},\n",
       "    {'n': 'sas-trackingid', 'v': '3050'},\n",
       "    {'n': 'date-start', 'v': '2020-10-09'},\n",
       "    {'n': 'date-finish', 'v': '2020-10-11'},\n",
       "    {'n': 'info-date', 'v': '08 - 11 Oct 20'},\n",
       "    {'n': 'info-based', 'v': 'Alghero'},\n",
       "    {'n': 'info-flag', 'v': 'ita'},\n",
       "    {'n': 'tzoffset', 'v': '0'},\n",
       "    {'n': 'rosterid', 'v': '7fd83ea2-d60b-40b3-bc69-535813a3fb55'},\n",
       "    {'n': 'position', 'v': '8.318143,40.566883'},\n",
       "    {'n': 'images', 'v': 'images/italy_2018.png'},\n",
       "    {'n': 'kmlfile', 'v': 'sardegna_2020'},\n",
       "    {'n': 'info-website', 'v': 'http://www.rallyitaliasardegna.com/'},\n",
       "    {'n': 'info-surface', 'v': 'Gravel'},\n",
       "    {'n': 'logo', 'v': 'images/italy_2020.png'},\n",
       "    {'n': 'poilistid', 'v': '6a8c36b1-2a1e-4055-a6ff-029c8db978a0'},\n",
       "    {'n': 'hasvideos', 'v': 'true'},\n",
       "    {'n': 'availability', 'v': 'now'}],\n",
       "   'parentid': None,\n",
       "   '_children': ['c022060d-5ec7-499f-90f8-87b4f6208d47',\n",
       "    'f0775df5-0668-4634-bbed-b4413fe83f8b',\n",
       "    'f624ec1a-b4e6-4980-a8cc-d43ee88d9d08',\n",
       "    '810bcad9-ea05-40be-ab07-2c5087f0f951',\n",
       "    'e96a759a-ca97-480b-ab03-42332345689a',\n",
       "    'a8ff4b93-2e04-4d66-8c4f-14d5c3dd1cc0',\n",
       "    '66de8b8c-0d9d-48b5-9edc-4ed13f230a25',\n",
       "    'dab1f467-707a-4ad7-80f0-e27cd9cb54b4',\n",
       "    '656b8435-6a13-4d8c-875e-3c8eb9193fce',\n",
       "    'cd57b1cb-7c51-46e5-8270-90203ec45752',\n",
       "    '2eb391e3-b67f-4c58-bb2f-be1a00eb9b8b',\n",
       "    'dd3a9cdb-d90c-43a1-9562-d1197a53dd26',\n",
       "    'ef9c335a-d23b-4917-8252-34fcf7e4f024',\n",
       "    'a526ce10-5bdd-4f82-b9cb-28d9773df963',\n",
       "    'bced00a9-b1cb-411a-a46c-c1b597d710d4',\n",
       "    '636e1839-bd8f-4a05-a71a-080b389f3fc7'],\n",
       "   '_dchildren': []},\n",
       "  {'_id': '893f4ff5-5f8c-407b-be61-83e63d808c55',\n",
       "   'name': 'ADAC Rallye Deutschland',\n",
       "   'type': 'Event',\n",
       "   '_meta': [{'n': 'sas-eventid', 'v': '134'},\n",
       "    {'n': 'name', 'v': 'ADAC Rallye Deutschland'},\n",
       "    {'n': 'sitid', 'v': '134'},\n",
       "    {'n': 'sas-rallyid', 'v': '163'},\n",
       "    {'n': 'sas-itineraryid', 'v': '236'},\n",
       "    {'n': 'sas-trackingid', 'v': '3055'},\n",
       "    {'n': 'date-start', 'v': '1021-10-15'},\n",
       "    {'n': 'date-finish', 'v': '1021-10-18'},\n",
       "    {'n': 'info-date', 'v': '15 - 18 Okt 20'},\n",
       "    {'n': 'info-based', 'v': 'Bostalsee'},\n",
       "    {'n': 'info-flag', 'v': 'DEU'},\n",
       "    {'n': 'tzoffset', 'v': '0'},\n",
       "    {'n': 'rosterid', 'v': '0f6946a8-bd0c-448d-ac76-da86d265d234'}],\n",
       "   'parentid': None,\n",
       "   '_children': [],\n",
       "   '_dchildren': []},\n",
       "  {'_id': 'd8ff92b6-ed5e-4123-83e1-d152e2281f5a',\n",
       "   'name': 'Dayinsure Rally Wales',\n",
       "   'type': 'Event',\n",
       "   '_meta': [{'n': 'sas-eventid', 'v': '135'},\n",
       "    {'n': 'name', 'v': 'Dayinsure Rally Wales'},\n",
       "    {'n': 'sitid', 'v': '135'},\n",
       "    {'n': 'sas-rallyid', 'v': '164'},\n",
       "    {'n': 'sas-itineraryid', 'v': '237'},\n",
       "    {'n': 'sas-trackingid', 'v': '3056'},\n",
       "    {'n': 'date-start', 'v': '1021-10-29'},\n",
       "    {'n': 'date-finish', 'v': '1021-11-01'},\n",
       "    {'n': 'info-date', 'v': '29 - 01 Nov 20'},\n",
       "    {'n': 'info-based', 'v': 'Llandudno'},\n",
       "    {'n': 'info-flag', 'v': 'GBR'},\n",
       "    {'n': 'tzoffset', 'v': '-3600000'},\n",
       "    {'n': 'rosterid', 'v': '8ebc66e7-b844-41d6-a7a1-01977cd415ec'}],\n",
       "   'parentid': None,\n",
       "   '_children': [],\n",
       "   '_dchildren': []},\n",
       "  {'_id': 'eb3e697c-6458-4020-97fb-4842d5fa35f4',\n",
       "   'name': 'Renties Ypres Rally Belgium',\n",
       "   'type': 'Event',\n",
       "   '_meta': [{'n': 'sas-eventid', 'v': '147'},\n",
       "    {'n': 'name', 'v': 'Renties Ypres Rally Belgium'},\n",
       "    {'n': 'sitid', 'v': '147'},\n",
       "    {'n': 'sas-rallyid', 'v': '168'},\n",
       "    {'n': 'sas-itineraryid', 'v': '248'},\n",
       "    {'n': 'sas-trackingid', 'v': '0'},\n",
       "    {'n': 'date-start', 'v': '1020-11-19'},\n",
       "    {'n': 'date-finish', 'v': '1020-11-22'},\n",
       "    {'n': 'info-date', 'v': '19 - 22 Nov 20'},\n",
       "    {'n': 'info-based', 'v': 'Ypres'},\n",
       "    {'n': 'info-surface', 'v': ''},\n",
       "    {'n': 'info-flag', 'v': 'bel'},\n",
       "    {'n': 'info-website', 'v': ''},\n",
       "    {'n': 'tzoffset', 'v': '7200000'},\n",
       "    {'n': 'rosterid', 'v': '2754deab-b670-4fbc-9f7b-95cf9c89347d'},\n",
       "    {'n': 'logo', 'v': 'images/belgium_2020.png'}],\n",
       "   'parentid': None,\n",
       "   '_children': [],\n",
       "   '_dchildren': []},\n",
       "  {'_id': '6444e0b4-6862-4ffe-89bf-a40a10930a4a',\n",
       "   'name': 'Rally Japan',\n",
       "   'type': 'Event',\n",
       "   '_meta': [{'n': 'sas-eventid', 'v': '136'},\n",
       "    {'n': 'name', 'v': 'Rally Japan'},\n",
       "    {'n': 'sitid', 'v': '136'},\n",
       "    {'n': 'sas-rallyid', 'v': '165'},\n",
       "    {'n': 'sas-itineraryid', 'v': '238'},\n",
       "    {'n': 'sas-trackingid', 'v': '3057'},\n",
       "    {'n': 'date-start', 'v': '1020-11-19'},\n",
       "    {'n': 'date-finish', 'v': '1020-11-22'},\n",
       "    {'n': 'info-date', 'v': '19 - 22 Nov 20'},\n",
       "    {'n': 'info-based', 'v': 'Nagoya'},\n",
       "    {'n': 'info-flag', 'v': 'JPN'},\n",
       "    {'n': 'tzoffset', 'v': '28800000'},\n",
       "    {'n': 'rosterid', 'v': '0c87f7c4-a6eb-468e-9d9f-2b14fde84afc'}],\n",
       "   'parentid': None,\n",
       "   '_children': [],\n",
       "   '_dchildren': []},\n",
       "  {'_id': 'a5b18086-a640-4eb8-ac46-252814584693',\n",
       "   'name': 'ACI Rally Monza',\n",
       "   'type': 'Event',\n",
       "   '_meta': [{'n': 'sas-eventid', 'v': '148'},\n",
       "    {'n': 'name', 'v': 'ACI Rally Monza'},\n",
       "    {'n': 'sitid', 'v': '148'},\n",
       "    {'n': 'sas-rallyid', 'v': '171'},\n",
       "    {'n': 'sas-itineraryid', 'v': '259'},\n",
       "    {'n': 'sas-trackingid', 'v': '3163'},\n",
       "    {'n': 'date-start', 'v': '2020-12-03'},\n",
       "    {'n': 'date-finish', 'v': '2020-12-06'},\n",
       "    {'n': 'info-date', 'v': '04 - 06 Dec 20'},\n",
       "    {'n': 'info-based', 'v': 'Monza'},\n",
       "    {'n': 'info-surface', 'v': 'Asphalt'},\n",
       "    {'n': 'info-flag', 'v': 'mza'},\n",
       "    {'n': 'info-website', 'v': 'https://www.acirallymonza.com'},\n",
       "    {'n': 'tzoffset', 'v': '0'},\n",
       "    {'n': 'logo', 'v': 'images/monza_2020.png'},\n",
       "    {'n': 'kmlfile', 'v': 'monza_2020'},\n",
       "    {'n': 'position', 'v': '9.281963112047562, 45.61766726450976'},\n",
       "    {'n': 'poilistid', 'v': '2002a357-50e9-41f5-b75d-8816fe2111b8'},\n",
       "    {'n': 'rosterid', 'v': 'f7662b63-458a-41d4-a6de-c66d64561473'},\n",
       "    {'n': 'availability', 'v': 'now'},\n",
       "    {'n': 'hasvideos', 'v': 'true'}],\n",
       "   'parentid': None,\n",
       "   '_children': ['9e7e500e-16a9-4dfe-9f0f-37798e156510',\n",
       "    '6e61cb56-0de5-45a4-aa4b-cbae46459212',\n",
       "    'cf1b784a-f923-44bb-9055-66920ec929af',\n",
       "    '8c5e5eef-33b0-4017-bfef-fdc683cf430f',\n",
       "    '8ddebea2-7d97-4941-b7ae-d326608ab07a',\n",
       "    '18cff6c2-d515-47df-b763-987e5fd45571',\n",
       "    '21587e71-8f63-45fe-b421-4f6faef62352',\n",
       "    'b6be8cfc-8473-4f2b-a642-37b07294ff99',\n",
       "    'da2697d5-ff56-4a89-afa1-db1ee3e93595',\n",
       "    '9bfb77cc-3c5a-48c4-be54-bd3fd150eca0',\n",
       "    '2f302722-ba6f-446b-bf02-5613a85d1363',\n",
       "    'a7cd25b0-0e88-4735-89b6-21975320c855',\n",
       "    '937bdafd-eda9-4014-83cb-d794f7119950',\n",
       "    'ebd3353c-a654-4f0f-afe8-0a933478427a',\n",
       "    'bbd11930-886d-47da-a4de-8901972e5e67',\n",
       "    '24b4bfeb-24ec-4c90-9c11-38d28f8970b1'],\n",
       "   '_dchildren': []}]}"
      ]
     },
     "execution_count": 19,
     "metadata": {},
     "output_type": "execute_result"
    }
   ],
   "source": [
    "year = 2020\n",
    "s = [s for s in seasons if s['name']==str(year)]\n",
    "s[0]"
   ]
  },
  {
   "cell_type": "code",
   "execution_count": 11,
   "metadata": {},
   "outputs": [
    {
     "data": {
      "text/plain": [
       "[]"
      ]
     },
     "execution_count": 11,
     "metadata": {},
     "output_type": "execute_result"
    }
   ],
   "source": [
    "wt.get_season_details(4)"
   ]
  },
  {
   "cell_type": "code",
   "execution_count": null,
   "metadata": {},
   "outputs": [],
   "source": []
  }
 ],
 "metadata": {
  "kernelspec": {
   "display_name": "Python 3",
   "language": "python",
   "name": "python3"
  },
  "language_info": {
   "codemirror_mode": {
    "name": "ipython",
    "version": 3
   },
   "file_extension": ".py",
   "mimetype": "text/x-python",
   "name": "python",
   "nbconvert_exporter": "python",
   "pygments_lexer": "ipython3",
   "version": "3.7.6"
  }
 },
 "nbformat": 4,
 "nbformat_minor": 2
}
